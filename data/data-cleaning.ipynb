{
 "cells": [
  {
   "cell_type": "code",
   "execution_count": 4,
   "id": "a7f673c2",
   "metadata": {},
   "outputs": [
    {
     "name": "stdout",
     "output_type": "stream",
     "text": [
      "Removed row indices: [70, 131, 135, 145, 149, 150, 151, 152, 153, 154, 155, 156, 157, 158, 159, 160, 161]\n",
      "\n",
      "Cleaned data preview (first 5 rows):\n",
      "   Input 1  Input 2  Input 3  Input 4  Input 5  Input 6  Input 7  Input 8  \\\n",
      "0      2.0      1.0      3.0      1.0      5.0      1.0      2.0      9.0   \n",
      "1      2.0      1.0      3.0      1.0      5.0      2.0      1.0      NaN   \n",
      "2      2.0      2.0      5.0     16.0      4.0      1.0      1.0      5.0   \n",
      "3      2.0      2.0      5.0      1.0      5.0      1.0      2.0      5.0   \n",
      "4      1.0      5.0      4.0     15.0      5.0      1.0      2.0      9.0   \n",
      "\n",
      "  Input 9  Input 10  ...  Input 12  Input 13  Input 14  Input 15  Input 16  \\\n",
      "0      15       7.0  ...       8.9     337.0  0.000900   47360.0     306.3   \n",
      "1      13      48.0  ...     201.6      17.0  0.000909    2319.0      15.1   \n",
      "2      20     451.0  ...     150.3    1514.0  0.000918  211636.0    1379.3   \n",
      "3      15     100.0  ...      19.0    1662.0  0.000927  231753.0    1534.2   \n",
      "4      15      15.0  ...      13.7     181.0  0.002369   17225.0     150.0   \n",
      "\n",
      "   Input 17 input_18  Output 1   F2   F3  \n",
      "0       348    558.7   58045.0  4.0  3.0  \n",
      "1      16.5      1.5    -706.0  1.0  1.0  \n",
      "2    1513.9    208.7   40462.0  1.0  5.0  \n",
      "3    1661.9    172.6  -61070.0  7.0  1.0  \n",
      "4     181.3    -10.4    3528.0  3.0  3.0  \n",
      "\n",
      "[5 rows x 21 columns]\n",
      "\n",
      "Cleaned CSV saved to: /home/kamiar/chevron/Acid-neural-net/data/test_data_nn(SampleData_07032025_vf3)_cleaned.csv\n"
     ]
    }
   ],
   "source": [
    "import pandas as pd\n",
    "\n",
    "# Load raw data\n",
    "df = pd.read_csv('/home/kamiar/chevron/Acid-neural-net/data/test_data_nn(SampleData_07032025_vf3).csv')\n",
    "\n",
    "# Define columns by position\n",
    "input_cols = df.columns[3:20]             # Inputs 1–17\n",
    "f4_col = df.columns[24]                   # F4 → input_18\n",
    "output_col = df.columns[20]               # Output\n",
    "quality_cols = df.columns[22:24]          # F2, F3\n",
    "\n",
    "# Subset and rename\n",
    "df_selected = df[list(input_cols) + [f4_col] + [output_col] + list(quality_cols)]\n",
    "df_selected = df_selected.rename(columns={f4_col: 'input_18'})\n",
    "\n",
    "# Identify and remove rows with >1 missing value\n",
    "missing_counts = df_selected.isna().sum(axis=1)\n",
    "removed_indices = missing_counts[missing_counts > 1].index.tolist()\n",
    "print(\"Removed row indices:\", removed_indices)\n",
    "\n",
    "# Keep only rows with at most one missing\n",
    "df_cleaned = df_selected[missing_counts <= 1]\n",
    "\n",
    "# Preview cleaned data\n",
    "print(\"\\nCleaned data preview (first 5 rows):\")\n",
    "print(df_cleaned.head())\n",
    "\n",
    "# Save cleaned dataset\n",
    "output_path = '/home/kamiar/chevron/Acid-neural-net/data/test_data_nn(SampleData_07032025_vf3)_cleaned.csv'\n",
    "df_cleaned.to_csv(output_path, index=False)\n",
    "print(f\"\\nCleaned CSV saved to: {output_path}\")\n"
   ]
  }
 ],
 "metadata": {
  "kernelspec": {
   "display_name": ".venv",
   "language": "python",
   "name": "python3"
  },
  "language_info": {
   "codemirror_mode": {
    "name": "ipython",
    "version": 3
   },
   "file_extension": ".py",
   "mimetype": "text/x-python",
   "name": "python",
   "nbconvert_exporter": "python",
   "pygments_lexer": "ipython3",
   "version": "3.12.3"
  }
 },
 "nbformat": 4,
 "nbformat_minor": 5
}
