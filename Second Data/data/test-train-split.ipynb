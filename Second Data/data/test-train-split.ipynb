{
 "cells": [
  {
   "cell_type": "code",
   "execution_count": 1,
   "id": "382e3486",
   "metadata": {},
   "outputs": [
    {
     "name": "stdout",
     "output_type": "stream",
     "text": [
      "Split complete:\n",
      "  • test.csv         → 20 rows (all Input 9 ≤ 2000)\n",
      "  • train_val.csv    → 117 rows (includes all Input 9 > 2000 and remaining)\n"
     ]
    }
   ],
   "source": [
    "import pandas as pd\n",
    "\n",
    "# 1) Load your data\n",
    "df = pd.read_csv('/home/kamiar/chevron/Acid-neural-net/data/Raw-outlier-removed.csv')\n",
    "\n",
    "# 2) Identify rows eligible for the blind test (Input 9 <= 2000)\n",
    "eligible = df[df['Input 9'] <= 2000]\n",
    "\n",
    "# Sanity check\n",
    "if len(eligible) < 20:\n",
    "    raise ValueError(f\"Only {len(eligible)} rows have Input 9 ≤ 2000; can't sample 20.\")\n",
    "\n",
    "# 3) Randomly sample 20 rows for the test set\n",
    "test = eligible.sample(n=20, random_state=42)\n",
    "\n",
    "# 4) Everything else goes into train+validation\n",
    "train_val = df.drop(test.index)\n",
    "\n",
    "# 5) Save to CSV\n",
    "test.to_csv('test.csv', index=False)\n",
    "train_val.to_csv('train_val.csv', index=False)\n",
    "\n",
    "print(\"Split complete:\")\n",
    "print(f\"  • test.csv         → {len(test)} rows (all Input 9 ≤ 2000)\")\n",
    "print(f\"  • train_val.csv    → {len(train_val)} rows (includes all Input 9 > 2000 and remaining)\")\n"
   ]
  }
 ],
 "metadata": {
  "kernelspec": {
   "display_name": ".venv",
   "language": "python",
   "name": "python3"
  },
  "language_info": {
   "codemirror_mode": {
    "name": "ipython",
    "version": 3
   },
   "file_extension": ".py",
   "mimetype": "text/x-python",
   "name": "python",
   "nbconvert_exporter": "python",
   "pygments_lexer": "ipython3",
   "version": "3.12.3"
  }
 },
 "nbformat": 4,
 "nbformat_minor": 5
}
